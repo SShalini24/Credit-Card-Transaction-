{
  "nbformat": 4,
  "nbformat_minor": 0,
  "metadata": {
    "colab": {
      "provenance": [],
      "authorship_tag": "ABX9TyPaiPg5IJN+xHtmk0bJQadP",
      "include_colab_link": true
    },
    "kernelspec": {
      "name": "python3",
      "display_name": "Python 3"
    },
    "language_info": {
      "name": "python"
    }
  },
  "cells": [
    {
      "cell_type": "markdown",
      "metadata": {
        "id": "view-in-github",
        "colab_type": "text"
      },
      "source": [
        "<a href=\"https://colab.research.google.com/github/SShalini24/Credit-Card-Transaction-/blob/main/Credit_Card_Prediction.ipynb\" target=\"_parent\"><img src=\"https://colab.research.google.com/assets/colab-badge.svg\" alt=\"Open In Colab\"/></a>"
      ]
    },
    {
      "cell_type": "markdown",
      "source": [
        "Importing the Dependencies"
      ],
      "metadata": {
        "id": "Dc3NawBcrKTI"
      }
    },
    {
      "cell_type": "code",
      "source": [
        "import pandas as pd \n",
        "import numpy as np \n",
        "from sklearn.model_selection import train_test_split\n",
        "from sklearn.linear_model import LogisticRegression\n",
        "from sklearn.metrics import accuracy_score\n",
        "import warnings \n",
        "warnings.filterwarnings('ignore')"
      ],
      "metadata": {
        "id": "Y2PkI2Z-qro7"
      },
      "execution_count": 127,
      "outputs": []
    },
    {
      "cell_type": "code",
      "source": [
        "# Loading the Dataset to a Pandas DataFrame\n",
        "credit_card_data = pd.read_csv('/content/creditcard.csv')"
      ],
      "metadata": {
        "id": "QwnkM0S8qrrU"
      },
      "execution_count": 128,
      "outputs": []
    },
    {
      "cell_type": "code",
      "source": [
        "# printing the first five rows of the dataset\n",
        "credit_card_data.head()"
      ],
      "metadata": {
        "id": "VhrkiZv8qruE",
        "colab": {
          "base_uri": "https://localhost:8080/",
          "height": 299
        },
        "outputId": "def8c41d-c7ea-49c7-dfab-87d6e413540d"
      },
      "execution_count": 129,
      "outputs": [
        {
          "output_type": "execute_result",
          "data": {
            "text/plain": [
              "   Time        V1        V2        V3        V4        V5        V6        V7  \\\n",
              "0     0 -1.359807 -0.072781  2.536347  1.378155 -0.338321  0.462388  0.239599   \n",
              "1     0  1.191857  0.266151  0.166480  0.448154  0.060018 -0.082361 -0.078803   \n",
              "2     1 -1.358354 -1.340163  1.773209  0.379780 -0.503198  1.800499  0.791461   \n",
              "3     1 -0.966272 -0.185226  1.792993 -0.863291 -0.010309  1.247203  0.237609   \n",
              "4     2 -1.158233  0.877737  1.548718  0.403034 -0.407193  0.095921  0.592941   \n",
              "\n",
              "         V8        V9  ...       V21       V22       V23       V24       V25  \\\n",
              "0  0.098698  0.363787  ... -0.018307  0.277838 -0.110474  0.066928  0.128539   \n",
              "1  0.085102 -0.255425  ... -0.225775 -0.638672  0.101288 -0.339846  0.167170   \n",
              "2  0.247676 -1.514654  ...  0.247998  0.771679  0.909412 -0.689281 -0.327642   \n",
              "3  0.377436 -1.387024  ... -0.108300  0.005274 -0.190321 -1.175575  0.647376   \n",
              "4 -0.270533  0.817739  ... -0.009431  0.798278 -0.137458  0.141267 -0.206010   \n",
              "\n",
              "        V26       V27       V28  Amount  Class  \n",
              "0 -0.189115  0.133558 -0.021053  149.62    0.0  \n",
              "1  0.125895 -0.008983  0.014724    2.69    0.0  \n",
              "2 -0.139097 -0.055353 -0.059752  378.66    0.0  \n",
              "3 -0.221929  0.062723  0.061458  123.50    0.0  \n",
              "4  0.502292  0.219422  0.215153   69.99    0.0  \n",
              "\n",
              "[5 rows x 31 columns]"
            ],
            "text/html": [
              "\n",
              "  <div id=\"df-8b59a6ed-b2d4-451c-a8a3-ff71ced108e5\">\n",
              "    <div class=\"colab-df-container\">\n",
              "      <div>\n",
              "<style scoped>\n",
              "    .dataframe tbody tr th:only-of-type {\n",
              "        vertical-align: middle;\n",
              "    }\n",
              "\n",
              "    .dataframe tbody tr th {\n",
              "        vertical-align: top;\n",
              "    }\n",
              "\n",
              "    .dataframe thead th {\n",
              "        text-align: right;\n",
              "    }\n",
              "</style>\n",
              "<table border=\"1\" class=\"dataframe\">\n",
              "  <thead>\n",
              "    <tr style=\"text-align: right;\">\n",
              "      <th></th>\n",
              "      <th>Time</th>\n",
              "      <th>V1</th>\n",
              "      <th>V2</th>\n",
              "      <th>V3</th>\n",
              "      <th>V4</th>\n",
              "      <th>V5</th>\n",
              "      <th>V6</th>\n",
              "      <th>V7</th>\n",
              "      <th>V8</th>\n",
              "      <th>V9</th>\n",
              "      <th>...</th>\n",
              "      <th>V21</th>\n",
              "      <th>V22</th>\n",
              "      <th>V23</th>\n",
              "      <th>V24</th>\n",
              "      <th>V25</th>\n",
              "      <th>V26</th>\n",
              "      <th>V27</th>\n",
              "      <th>V28</th>\n",
              "      <th>Amount</th>\n",
              "      <th>Class</th>\n",
              "    </tr>\n",
              "  </thead>\n",
              "  <tbody>\n",
              "    <tr>\n",
              "      <th>0</th>\n",
              "      <td>0</td>\n",
              "      <td>-1.359807</td>\n",
              "      <td>-0.072781</td>\n",
              "      <td>2.536347</td>\n",
              "      <td>1.378155</td>\n",
              "      <td>-0.338321</td>\n",
              "      <td>0.462388</td>\n",
              "      <td>0.239599</td>\n",
              "      <td>0.098698</td>\n",
              "      <td>0.363787</td>\n",
              "      <td>...</td>\n",
              "      <td>-0.018307</td>\n",
              "      <td>0.277838</td>\n",
              "      <td>-0.110474</td>\n",
              "      <td>0.066928</td>\n",
              "      <td>0.128539</td>\n",
              "      <td>-0.189115</td>\n",
              "      <td>0.133558</td>\n",
              "      <td>-0.021053</td>\n",
              "      <td>149.62</td>\n",
              "      <td>0.0</td>\n",
              "    </tr>\n",
              "    <tr>\n",
              "      <th>1</th>\n",
              "      <td>0</td>\n",
              "      <td>1.191857</td>\n",
              "      <td>0.266151</td>\n",
              "      <td>0.166480</td>\n",
              "      <td>0.448154</td>\n",
              "      <td>0.060018</td>\n",
              "      <td>-0.082361</td>\n",
              "      <td>-0.078803</td>\n",
              "      <td>0.085102</td>\n",
              "      <td>-0.255425</td>\n",
              "      <td>...</td>\n",
              "      <td>-0.225775</td>\n",
              "      <td>-0.638672</td>\n",
              "      <td>0.101288</td>\n",
              "      <td>-0.339846</td>\n",
              "      <td>0.167170</td>\n",
              "      <td>0.125895</td>\n",
              "      <td>-0.008983</td>\n",
              "      <td>0.014724</td>\n",
              "      <td>2.69</td>\n",
              "      <td>0.0</td>\n",
              "    </tr>\n",
              "    <tr>\n",
              "      <th>2</th>\n",
              "      <td>1</td>\n",
              "      <td>-1.358354</td>\n",
              "      <td>-1.340163</td>\n",
              "      <td>1.773209</td>\n",
              "      <td>0.379780</td>\n",
              "      <td>-0.503198</td>\n",
              "      <td>1.800499</td>\n",
              "      <td>0.791461</td>\n",
              "      <td>0.247676</td>\n",
              "      <td>-1.514654</td>\n",
              "      <td>...</td>\n",
              "      <td>0.247998</td>\n",
              "      <td>0.771679</td>\n",
              "      <td>0.909412</td>\n",
              "      <td>-0.689281</td>\n",
              "      <td>-0.327642</td>\n",
              "      <td>-0.139097</td>\n",
              "      <td>-0.055353</td>\n",
              "      <td>-0.059752</td>\n",
              "      <td>378.66</td>\n",
              "      <td>0.0</td>\n",
              "    </tr>\n",
              "    <tr>\n",
              "      <th>3</th>\n",
              "      <td>1</td>\n",
              "      <td>-0.966272</td>\n",
              "      <td>-0.185226</td>\n",
              "      <td>1.792993</td>\n",
              "      <td>-0.863291</td>\n",
              "      <td>-0.010309</td>\n",
              "      <td>1.247203</td>\n",
              "      <td>0.237609</td>\n",
              "      <td>0.377436</td>\n",
              "      <td>-1.387024</td>\n",
              "      <td>...</td>\n",
              "      <td>-0.108300</td>\n",
              "      <td>0.005274</td>\n",
              "      <td>-0.190321</td>\n",
              "      <td>-1.175575</td>\n",
              "      <td>0.647376</td>\n",
              "      <td>-0.221929</td>\n",
              "      <td>0.062723</td>\n",
              "      <td>0.061458</td>\n",
              "      <td>123.50</td>\n",
              "      <td>0.0</td>\n",
              "    </tr>\n",
              "    <tr>\n",
              "      <th>4</th>\n",
              "      <td>2</td>\n",
              "      <td>-1.158233</td>\n",
              "      <td>0.877737</td>\n",
              "      <td>1.548718</td>\n",
              "      <td>0.403034</td>\n",
              "      <td>-0.407193</td>\n",
              "      <td>0.095921</td>\n",
              "      <td>0.592941</td>\n",
              "      <td>-0.270533</td>\n",
              "      <td>0.817739</td>\n",
              "      <td>...</td>\n",
              "      <td>-0.009431</td>\n",
              "      <td>0.798278</td>\n",
              "      <td>-0.137458</td>\n",
              "      <td>0.141267</td>\n",
              "      <td>-0.206010</td>\n",
              "      <td>0.502292</td>\n",
              "      <td>0.219422</td>\n",
              "      <td>0.215153</td>\n",
              "      <td>69.99</td>\n",
              "      <td>0.0</td>\n",
              "    </tr>\n",
              "  </tbody>\n",
              "</table>\n",
              "<p>5 rows × 31 columns</p>\n",
              "</div>\n",
              "      <button class=\"colab-df-convert\" onclick=\"convertToInteractive('df-8b59a6ed-b2d4-451c-a8a3-ff71ced108e5')\"\n",
              "              title=\"Convert this dataframe to an interactive table.\"\n",
              "              style=\"display:none;\">\n",
              "        \n",
              "  <svg xmlns=\"http://www.w3.org/2000/svg\" height=\"24px\"viewBox=\"0 0 24 24\"\n",
              "       width=\"24px\">\n",
              "    <path d=\"M0 0h24v24H0V0z\" fill=\"none\"/>\n",
              "    <path d=\"M18.56 5.44l.94 2.06.94-2.06 2.06-.94-2.06-.94-.94-2.06-.94 2.06-2.06.94zm-11 1L8.5 8.5l.94-2.06 2.06-.94-2.06-.94L8.5 2.5l-.94 2.06-2.06.94zm10 10l.94 2.06.94-2.06 2.06-.94-2.06-.94-.94-2.06-.94 2.06-2.06.94z\"/><path d=\"M17.41 7.96l-1.37-1.37c-.4-.4-.92-.59-1.43-.59-.52 0-1.04.2-1.43.59L10.3 9.45l-7.72 7.72c-.78.78-.78 2.05 0 2.83L4 21.41c.39.39.9.59 1.41.59.51 0 1.02-.2 1.41-.59l7.78-7.78 2.81-2.81c.8-.78.8-2.07 0-2.86zM5.41 20L4 18.59l7.72-7.72 1.47 1.35L5.41 20z\"/>\n",
              "  </svg>\n",
              "      </button>\n",
              "      \n",
              "  <style>\n",
              "    .colab-df-container {\n",
              "      display:flex;\n",
              "      flex-wrap:wrap;\n",
              "      gap: 12px;\n",
              "    }\n",
              "\n",
              "    .colab-df-convert {\n",
              "      background-color: #E8F0FE;\n",
              "      border: none;\n",
              "      border-radius: 50%;\n",
              "      cursor: pointer;\n",
              "      display: none;\n",
              "      fill: #1967D2;\n",
              "      height: 32px;\n",
              "      padding: 0 0 0 0;\n",
              "      width: 32px;\n",
              "    }\n",
              "\n",
              "    .colab-df-convert:hover {\n",
              "      background-color: #E2EBFA;\n",
              "      box-shadow: 0px 1px 2px rgba(60, 64, 67, 0.3), 0px 1px 3px 1px rgba(60, 64, 67, 0.15);\n",
              "      fill: #174EA6;\n",
              "    }\n",
              "\n",
              "    [theme=dark] .colab-df-convert {\n",
              "      background-color: #3B4455;\n",
              "      fill: #D2E3FC;\n",
              "    }\n",
              "\n",
              "    [theme=dark] .colab-df-convert:hover {\n",
              "      background-color: #434B5C;\n",
              "      box-shadow: 0px 1px 3px 1px rgba(0, 0, 0, 0.15);\n",
              "      filter: drop-shadow(0px 1px 2px rgba(0, 0, 0, 0.3));\n",
              "      fill: #FFFFFF;\n",
              "    }\n",
              "  </style>\n",
              "\n",
              "      <script>\n",
              "        const buttonEl =\n",
              "          document.querySelector('#df-8b59a6ed-b2d4-451c-a8a3-ff71ced108e5 button.colab-df-convert');\n",
              "        buttonEl.style.display =\n",
              "          google.colab.kernel.accessAllowed ? 'block' : 'none';\n",
              "\n",
              "        async function convertToInteractive(key) {\n",
              "          const element = document.querySelector('#df-8b59a6ed-b2d4-451c-a8a3-ff71ced108e5');\n",
              "          const dataTable =\n",
              "            await google.colab.kernel.invokeFunction('convertToInteractive',\n",
              "                                                     [key], {});\n",
              "          if (!dataTable) return;\n",
              "\n",
              "          const docLinkHtml = 'Like what you see? Visit the ' +\n",
              "            '<a target=\"_blank\" href=https://colab.research.google.com/notebooks/data_table.ipynb>data table notebook</a>'\n",
              "            + ' to learn more about interactive tables.';\n",
              "          element.innerHTML = '';\n",
              "          dataTable['output_type'] = 'display_data';\n",
              "          await google.colab.output.renderOutput(dataTable, element);\n",
              "          const docLink = document.createElement('div');\n",
              "          docLink.innerHTML = docLinkHtml;\n",
              "          element.appendChild(docLink);\n",
              "        }\n",
              "      </script>\n",
              "    </div>\n",
              "  </div>\n",
              "  "
            ]
          },
          "metadata": {},
          "execution_count": 129
        }
      ]
    },
    {
      "cell_type": "code",
      "source": [
        "# printing last five rows of the dataset\n",
        "credit_card_data.tail()"
      ],
      "metadata": {
        "id": "O-lH-dyRqrv-",
        "colab": {
          "base_uri": "https://localhost:8080/",
          "height": 299
        },
        "outputId": "c52697a4-8466-472c-e46e-ad554df7ef9f"
      },
      "execution_count": 130,
      "outputs": [
        {
          "output_type": "execute_result",
          "data": {
            "text/plain": [
              "        Time        V1        V2        V3        V4        V5        V6  \\\n",
              "77333  57003 -1.565835  0.537575  3.284121  3.229021 -0.917761  2.016339   \n",
              "77334  57005 -0.710264 -0.095320  2.899716  0.718612 -0.501955  0.968641   \n",
              "77335  57005  0.875729 -0.658494 -0.798643 -0.889801 -0.205406 -1.093946   \n",
              "77336  57006 -0.679923  1.074176  1.045563  1.100620 -0.764069 -1.048969   \n",
              "77337  57006  1.380239 -1.328341  1.488601 -1.259442 -2.253642 -0.193980   \n",
              "\n",
              "             V7        V8        V9  ...       V21       V22       V23  \\\n",
              "77333 -1.157749  1.086392  0.234172  ...  0.125678  1.072830 -0.229837   \n",
              "77334 -0.007123  0.308006  1.383339  ...  0.069589  0.711129 -0.038570   \n",
              "77335  0.743501 -0.381269  0.405087  ...  0.192299  0.161282 -0.451218   \n",
              "77336  0.601586  0.283135 -0.674820  ...  0.256539  0.475028  0.124473   \n",
              "77337 -1.799733  0.139147 -1.245753  ...       NaN       NaN       NaN   \n",
              "\n",
              "            V24       V25       V26       V27       V28  Amount  Class  \n",
              "77333  0.094444  0.215087  0.544487  0.271867 -0.089124   25.69    0.0  \n",
              "77334  0.088990 -0.282553 -0.448201  0.054450 -0.051693   65.00    0.0  \n",
              "77335  0.060376  0.885705 -0.477421 -0.036297  0.035704  235.53    0.0  \n",
              "77336  0.886947 -0.327076 -0.362904  0.017048  0.109040   73.52    0.0  \n",
              "77337       NaN       NaN       NaN       NaN       NaN     NaN    NaN  \n",
              "\n",
              "[5 rows x 31 columns]"
            ],
            "text/html": [
              "\n",
              "  <div id=\"df-d1b7d75d-39bf-47f6-8247-a5a6d7bbb442\">\n",
              "    <div class=\"colab-df-container\">\n",
              "      <div>\n",
              "<style scoped>\n",
              "    .dataframe tbody tr th:only-of-type {\n",
              "        vertical-align: middle;\n",
              "    }\n",
              "\n",
              "    .dataframe tbody tr th {\n",
              "        vertical-align: top;\n",
              "    }\n",
              "\n",
              "    .dataframe thead th {\n",
              "        text-align: right;\n",
              "    }\n",
              "</style>\n",
              "<table border=\"1\" class=\"dataframe\">\n",
              "  <thead>\n",
              "    <tr style=\"text-align: right;\">\n",
              "      <th></th>\n",
              "      <th>Time</th>\n",
              "      <th>V1</th>\n",
              "      <th>V2</th>\n",
              "      <th>V3</th>\n",
              "      <th>V4</th>\n",
              "      <th>V5</th>\n",
              "      <th>V6</th>\n",
              "      <th>V7</th>\n",
              "      <th>V8</th>\n",
              "      <th>V9</th>\n",
              "      <th>...</th>\n",
              "      <th>V21</th>\n",
              "      <th>V22</th>\n",
              "      <th>V23</th>\n",
              "      <th>V24</th>\n",
              "      <th>V25</th>\n",
              "      <th>V26</th>\n",
              "      <th>V27</th>\n",
              "      <th>V28</th>\n",
              "      <th>Amount</th>\n",
              "      <th>Class</th>\n",
              "    </tr>\n",
              "  </thead>\n",
              "  <tbody>\n",
              "    <tr>\n",
              "      <th>77333</th>\n",
              "      <td>57003</td>\n",
              "      <td>-1.565835</td>\n",
              "      <td>0.537575</td>\n",
              "      <td>3.284121</td>\n",
              "      <td>3.229021</td>\n",
              "      <td>-0.917761</td>\n",
              "      <td>2.016339</td>\n",
              "      <td>-1.157749</td>\n",
              "      <td>1.086392</td>\n",
              "      <td>0.234172</td>\n",
              "      <td>...</td>\n",
              "      <td>0.125678</td>\n",
              "      <td>1.072830</td>\n",
              "      <td>-0.229837</td>\n",
              "      <td>0.094444</td>\n",
              "      <td>0.215087</td>\n",
              "      <td>0.544487</td>\n",
              "      <td>0.271867</td>\n",
              "      <td>-0.089124</td>\n",
              "      <td>25.69</td>\n",
              "      <td>0.0</td>\n",
              "    </tr>\n",
              "    <tr>\n",
              "      <th>77334</th>\n",
              "      <td>57005</td>\n",
              "      <td>-0.710264</td>\n",
              "      <td>-0.095320</td>\n",
              "      <td>2.899716</td>\n",
              "      <td>0.718612</td>\n",
              "      <td>-0.501955</td>\n",
              "      <td>0.968641</td>\n",
              "      <td>-0.007123</td>\n",
              "      <td>0.308006</td>\n",
              "      <td>1.383339</td>\n",
              "      <td>...</td>\n",
              "      <td>0.069589</td>\n",
              "      <td>0.711129</td>\n",
              "      <td>-0.038570</td>\n",
              "      <td>0.088990</td>\n",
              "      <td>-0.282553</td>\n",
              "      <td>-0.448201</td>\n",
              "      <td>0.054450</td>\n",
              "      <td>-0.051693</td>\n",
              "      <td>65.00</td>\n",
              "      <td>0.0</td>\n",
              "    </tr>\n",
              "    <tr>\n",
              "      <th>77335</th>\n",
              "      <td>57005</td>\n",
              "      <td>0.875729</td>\n",
              "      <td>-0.658494</td>\n",
              "      <td>-0.798643</td>\n",
              "      <td>-0.889801</td>\n",
              "      <td>-0.205406</td>\n",
              "      <td>-1.093946</td>\n",
              "      <td>0.743501</td>\n",
              "      <td>-0.381269</td>\n",
              "      <td>0.405087</td>\n",
              "      <td>...</td>\n",
              "      <td>0.192299</td>\n",
              "      <td>0.161282</td>\n",
              "      <td>-0.451218</td>\n",
              "      <td>0.060376</td>\n",
              "      <td>0.885705</td>\n",
              "      <td>-0.477421</td>\n",
              "      <td>-0.036297</td>\n",
              "      <td>0.035704</td>\n",
              "      <td>235.53</td>\n",
              "      <td>0.0</td>\n",
              "    </tr>\n",
              "    <tr>\n",
              "      <th>77336</th>\n",
              "      <td>57006</td>\n",
              "      <td>-0.679923</td>\n",
              "      <td>1.074176</td>\n",
              "      <td>1.045563</td>\n",
              "      <td>1.100620</td>\n",
              "      <td>-0.764069</td>\n",
              "      <td>-1.048969</td>\n",
              "      <td>0.601586</td>\n",
              "      <td>0.283135</td>\n",
              "      <td>-0.674820</td>\n",
              "      <td>...</td>\n",
              "      <td>0.256539</td>\n",
              "      <td>0.475028</td>\n",
              "      <td>0.124473</td>\n",
              "      <td>0.886947</td>\n",
              "      <td>-0.327076</td>\n",
              "      <td>-0.362904</td>\n",
              "      <td>0.017048</td>\n",
              "      <td>0.109040</td>\n",
              "      <td>73.52</td>\n",
              "      <td>0.0</td>\n",
              "    </tr>\n",
              "    <tr>\n",
              "      <th>77337</th>\n",
              "      <td>57006</td>\n",
              "      <td>1.380239</td>\n",
              "      <td>-1.328341</td>\n",
              "      <td>1.488601</td>\n",
              "      <td>-1.259442</td>\n",
              "      <td>-2.253642</td>\n",
              "      <td>-0.193980</td>\n",
              "      <td>-1.799733</td>\n",
              "      <td>0.139147</td>\n",
              "      <td>-1.245753</td>\n",
              "      <td>...</td>\n",
              "      <td>NaN</td>\n",
              "      <td>NaN</td>\n",
              "      <td>NaN</td>\n",
              "      <td>NaN</td>\n",
              "      <td>NaN</td>\n",
              "      <td>NaN</td>\n",
              "      <td>NaN</td>\n",
              "      <td>NaN</td>\n",
              "      <td>NaN</td>\n",
              "      <td>NaN</td>\n",
              "    </tr>\n",
              "  </tbody>\n",
              "</table>\n",
              "<p>5 rows × 31 columns</p>\n",
              "</div>\n",
              "      <button class=\"colab-df-convert\" onclick=\"convertToInteractive('df-d1b7d75d-39bf-47f6-8247-a5a6d7bbb442')\"\n",
              "              title=\"Convert this dataframe to an interactive table.\"\n",
              "              style=\"display:none;\">\n",
              "        \n",
              "  <svg xmlns=\"http://www.w3.org/2000/svg\" height=\"24px\"viewBox=\"0 0 24 24\"\n",
              "       width=\"24px\">\n",
              "    <path d=\"M0 0h24v24H0V0z\" fill=\"none\"/>\n",
              "    <path d=\"M18.56 5.44l.94 2.06.94-2.06 2.06-.94-2.06-.94-.94-2.06-.94 2.06-2.06.94zm-11 1L8.5 8.5l.94-2.06 2.06-.94-2.06-.94L8.5 2.5l-.94 2.06-2.06.94zm10 10l.94 2.06.94-2.06 2.06-.94-2.06-.94-.94-2.06-.94 2.06-2.06.94z\"/><path d=\"M17.41 7.96l-1.37-1.37c-.4-.4-.92-.59-1.43-.59-.52 0-1.04.2-1.43.59L10.3 9.45l-7.72 7.72c-.78.78-.78 2.05 0 2.83L4 21.41c.39.39.9.59 1.41.59.51 0 1.02-.2 1.41-.59l7.78-7.78 2.81-2.81c.8-.78.8-2.07 0-2.86zM5.41 20L4 18.59l7.72-7.72 1.47 1.35L5.41 20z\"/>\n",
              "  </svg>\n",
              "      </button>\n",
              "      \n",
              "  <style>\n",
              "    .colab-df-container {\n",
              "      display:flex;\n",
              "      flex-wrap:wrap;\n",
              "      gap: 12px;\n",
              "    }\n",
              "\n",
              "    .colab-df-convert {\n",
              "      background-color: #E8F0FE;\n",
              "      border: none;\n",
              "      border-radius: 50%;\n",
              "      cursor: pointer;\n",
              "      display: none;\n",
              "      fill: #1967D2;\n",
              "      height: 32px;\n",
              "      padding: 0 0 0 0;\n",
              "      width: 32px;\n",
              "    }\n",
              "\n",
              "    .colab-df-convert:hover {\n",
              "      background-color: #E2EBFA;\n",
              "      box-shadow: 0px 1px 2px rgba(60, 64, 67, 0.3), 0px 1px 3px 1px rgba(60, 64, 67, 0.15);\n",
              "      fill: #174EA6;\n",
              "    }\n",
              "\n",
              "    [theme=dark] .colab-df-convert {\n",
              "      background-color: #3B4455;\n",
              "      fill: #D2E3FC;\n",
              "    }\n",
              "\n",
              "    [theme=dark] .colab-df-convert:hover {\n",
              "      background-color: #434B5C;\n",
              "      box-shadow: 0px 1px 3px 1px rgba(0, 0, 0, 0.15);\n",
              "      filter: drop-shadow(0px 1px 2px rgba(0, 0, 0, 0.3));\n",
              "      fill: #FFFFFF;\n",
              "    }\n",
              "  </style>\n",
              "\n",
              "      <script>\n",
              "        const buttonEl =\n",
              "          document.querySelector('#df-d1b7d75d-39bf-47f6-8247-a5a6d7bbb442 button.colab-df-convert');\n",
              "        buttonEl.style.display =\n",
              "          google.colab.kernel.accessAllowed ? 'block' : 'none';\n",
              "\n",
              "        async function convertToInteractive(key) {\n",
              "          const element = document.querySelector('#df-d1b7d75d-39bf-47f6-8247-a5a6d7bbb442');\n",
              "          const dataTable =\n",
              "            await google.colab.kernel.invokeFunction('convertToInteractive',\n",
              "                                                     [key], {});\n",
              "          if (!dataTable) return;\n",
              "\n",
              "          const docLinkHtml = 'Like what you see? Visit the ' +\n",
              "            '<a target=\"_blank\" href=https://colab.research.google.com/notebooks/data_table.ipynb>data table notebook</a>'\n",
              "            + ' to learn more about interactive tables.';\n",
              "          element.innerHTML = '';\n",
              "          dataTable['output_type'] = 'display_data';\n",
              "          await google.colab.output.renderOutput(dataTable, element);\n",
              "          const docLink = document.createElement('div');\n",
              "          docLink.innerHTML = docLinkHtml;\n",
              "          element.appendChild(docLink);\n",
              "        }\n",
              "      </script>\n",
              "    </div>\n",
              "  </div>\n",
              "  "
            ]
          },
          "metadata": {},
          "execution_count": 130
        }
      ]
    },
    {
      "cell_type": "code",
      "source": [
        "# getting the dataset information \n",
        "credit_card_data.info()"
      ],
      "metadata": {
        "id": "KSwz5huFqrxy",
        "colab": {
          "base_uri": "https://localhost:8080/"
        },
        "outputId": "2d1a3a0f-5eff-4b47-a676-822eec30d5ab"
      },
      "execution_count": 131,
      "outputs": [
        {
          "output_type": "stream",
          "name": "stdout",
          "text": [
            "<class 'pandas.core.frame.DataFrame'>\n",
            "RangeIndex: 77338 entries, 0 to 77337\n",
            "Data columns (total 31 columns):\n",
            " #   Column  Non-Null Count  Dtype  \n",
            "---  ------  --------------  -----  \n",
            " 0   Time    77338 non-null  int64  \n",
            " 1   V1      77338 non-null  float64\n",
            " 2   V2      77338 non-null  float64\n",
            " 3   V3      77338 non-null  float64\n",
            " 4   V4      77338 non-null  float64\n",
            " 5   V5      77338 non-null  float64\n",
            " 6   V6      77338 non-null  float64\n",
            " 7   V7      77338 non-null  float64\n",
            " 8   V8      77338 non-null  float64\n",
            " 9   V9      77338 non-null  float64\n",
            " 10  V10     77338 non-null  float64\n",
            " 11  V11     77338 non-null  float64\n",
            " 12  V12     77338 non-null  float64\n",
            " 13  V13     77338 non-null  float64\n",
            " 14  V14     77337 non-null  float64\n",
            " 15  V15     77337 non-null  float64\n",
            " 16  V16     77337 non-null  float64\n",
            " 17  V17     77337 non-null  float64\n",
            " 18  V18     77337 non-null  float64\n",
            " 19  V19     77337 non-null  float64\n",
            " 20  V20     77337 non-null  float64\n",
            " 21  V21     77337 non-null  float64\n",
            " 22  V22     77337 non-null  float64\n",
            " 23  V23     77337 non-null  float64\n",
            " 24  V24     77337 non-null  float64\n",
            " 25  V25     77337 non-null  float64\n",
            " 26  V26     77337 non-null  float64\n",
            " 27  V27     77337 non-null  float64\n",
            " 28  V28     77337 non-null  float64\n",
            " 29  Amount  77337 non-null  float64\n",
            " 30  Class   77337 non-null  float64\n",
            "dtypes: float64(30), int64(1)\n",
            "memory usage: 18.3 MB\n"
          ]
        }
      ]
    },
    {
      "cell_type": "code",
      "source": [
        "  # checking the number of missing values in each column\n",
        "  credit_card_data.isnull().sum()"
      ],
      "metadata": {
        "id": "qvD8gHmYqr2r",
        "colab": {
          "base_uri": "https://localhost:8080/"
        },
        "outputId": "29e0dbc0-dfba-4e1a-ea0e-d1f45c82e585"
      },
      "execution_count": 132,
      "outputs": [
        {
          "output_type": "execute_result",
          "data": {
            "text/plain": [
              "Time      0\n",
              "V1        0\n",
              "V2        0\n",
              "V3        0\n",
              "V4        0\n",
              "V5        0\n",
              "V6        0\n",
              "V7        0\n",
              "V8        0\n",
              "V9        0\n",
              "V10       0\n",
              "V11       0\n",
              "V12       0\n",
              "V13       0\n",
              "V14       1\n",
              "V15       1\n",
              "V16       1\n",
              "V17       1\n",
              "V18       1\n",
              "V19       1\n",
              "V20       1\n",
              "V21       1\n",
              "V22       1\n",
              "V23       1\n",
              "V24       1\n",
              "V25       1\n",
              "V26       1\n",
              "V27       1\n",
              "V28       1\n",
              "Amount    1\n",
              "Class     1\n",
              "dtype: int64"
            ]
          },
          "metadata": {},
          "execution_count": 132
        }
      ]
    },
    {
      "cell_type": "code",
      "source": [
        "# dropping the missing values \n",
        "credit_card_data = credit_card_data.dropna()"
      ],
      "metadata": {
        "id": "LVByyexvqr5R"
      },
      "execution_count": 133,
      "outputs": []
    },
    {
      "cell_type": "code",
      "source": [
        "# rechecking the missing values \n",
        "credit_card_data.isnull().sum()"
      ],
      "metadata": {
        "id": "SxNfjI_iqr8O",
        "colab": {
          "base_uri": "https://localhost:8080/"
        },
        "outputId": "7f8fffe5-8f77-47da-d75d-0e7051bce755"
      },
      "execution_count": 134,
      "outputs": [
        {
          "output_type": "execute_result",
          "data": {
            "text/plain": [
              "Time      0\n",
              "V1        0\n",
              "V2        0\n",
              "V3        0\n",
              "V4        0\n",
              "V5        0\n",
              "V6        0\n",
              "V7        0\n",
              "V8        0\n",
              "V9        0\n",
              "V10       0\n",
              "V11       0\n",
              "V12       0\n",
              "V13       0\n",
              "V14       0\n",
              "V15       0\n",
              "V16       0\n",
              "V17       0\n",
              "V18       0\n",
              "V19       0\n",
              "V20       0\n",
              "V21       0\n",
              "V22       0\n",
              "V23       0\n",
              "V24       0\n",
              "V25       0\n",
              "V26       0\n",
              "V27       0\n",
              "V28       0\n",
              "Amount    0\n",
              "Class     0\n",
              "dtype: int64"
            ]
          },
          "metadata": {},
          "execution_count": 134
        }
      ]
    },
    {
      "cell_type": "code",
      "source": [
        "# distributions of the legit transactions and fradulant transactions \n",
        "credit_card_data['Class'].value_counts()"
      ],
      "metadata": {
        "id": "IQTXcxywqr98",
        "colab": {
          "base_uri": "https://localhost:8080/"
        },
        "outputId": "3977893c-a911-433e-f42f-d5b1eacb59ff"
      },
      "execution_count": 135,
      "outputs": [
        {
          "output_type": "execute_result",
          "data": {
            "text/plain": [
              "0.0    77149\n",
              "1.0      188\n",
              "Name: Class, dtype: int64"
            ]
          },
          "metadata": {},
          "execution_count": 135
        }
      ]
    },
    {
      "cell_type": "markdown",
      "source": [
        "This Data is Highly Unbalanced"
      ],
      "metadata": {
        "id": "W1itMuAnbqaT"
      }
    },
    {
      "cell_type": "markdown",
      "source": [
        "In this data :\n",
        "\n",
        "0--> Represents the Normal Transactions \n",
        "\n",
        "1--> Represents the Fradulant Transcations "
      ],
      "metadata": {
        "id": "KgidPflybXhh"
      }
    },
    {
      "cell_type": "code",
      "source": [
        "# seperating the data for analysis\n",
        "\n",
        "legit = credit_card_data[credit_card_data.Class==0]\n",
        "fraud = credit_card_data[credit_card_data.Class ==1]"
      ],
      "metadata": {
        "id": "hEQSLG2dqsG_"
      },
      "execution_count": 136,
      "outputs": []
    },
    {
      "cell_type": "code",
      "source": [
        "print(legit.shape)\n",
        "print(fraud.shape)"
      ],
      "metadata": {
        "colab": {
          "base_uri": "https://localhost:8080/"
        },
        "id": "86GF0UK_cef-",
        "outputId": "be3456fe-7e34-475c-ff56-de4c274933b5"
      },
      "execution_count": 137,
      "outputs": [
        {
          "output_type": "stream",
          "name": "stdout",
          "text": [
            "(77149, 31)\n",
            "(188, 31)\n"
          ]
        }
      ]
    },
    {
      "cell_type": "code",
      "source": [
        "# statistical measures for the legit data \n",
        "legit.Amount.describe()"
      ],
      "metadata": {
        "colab": {
          "base_uri": "https://localhost:8080/"
        },
        "id": "eK_Tj4DPceiN",
        "outputId": "f50e9a7c-0a57-499b-84ae-0e2daa563098"
      },
      "execution_count": 138,
      "outputs": [
        {
          "output_type": "execute_result",
          "data": {
            "text/plain": [
              "count    77149.000000\n",
              "mean        97.625867\n",
              "std        270.623024\n",
              "min          0.000000\n",
              "25%          7.690000\n",
              "50%         26.800000\n",
              "75%         89.000000\n",
              "max      19656.530000\n",
              "Name: Amount, dtype: float64"
            ]
          },
          "metadata": {},
          "execution_count": 138
        }
      ]
    },
    {
      "cell_type": "code",
      "source": [
        "# statistical measures for the fraud data\n",
        "fraud.Amount.describe()"
      ],
      "metadata": {
        "colab": {
          "base_uri": "https://localhost:8080/"
        },
        "id": "06yK9H5rcen_",
        "outputId": "1aac31bf-eb2c-44f0-dfcf-53514b7f3217"
      },
      "execution_count": 139,
      "outputs": [
        {
          "output_type": "execute_result",
          "data": {
            "text/plain": [
              "count     188.000000\n",
              "mean       94.292500\n",
              "std       214.093799\n",
              "min         0.000000\n",
              "25%         1.000000\n",
              "50%         7.550000\n",
              "75%        99.990000\n",
              "max      1809.680000\n",
              "Name: Amount, dtype: float64"
            ]
          },
          "metadata": {},
          "execution_count": 139
        }
      ]
    },
    {
      "cell_type": "code",
      "source": [
        "# Compare the values for both  transactions \n",
        "credit_card_data.groupby('Class').mean()"
      ],
      "metadata": {
        "colab": {
          "base_uri": "https://localhost:8080/",
          "height": 237
        },
        "id": "FkU_A9tecepn",
        "outputId": "c47abc81-2887-477b-b433-c834d9ec9d2f"
      },
      "execution_count": 140,
      "outputs": [
        {
          "output_type": "execute_result",
          "data": {
            "text/plain": [
              "               Time        V1        V2        V3        V4        V5  \\\n",
              "Class                                                                   \n",
              "0.0    36643.938353 -0.239252 -0.043518  0.701351  0.152168 -0.264608   \n",
              "1.0    32055.739362 -6.692335  4.711159 -8.903156  5.250821 -4.905270   \n",
              "\n",
              "            V6        V7        V8        V9  ...       V20       V21  \\\n",
              "Class                                         ...                       \n",
              "0.0    0.10159 -0.097359  0.046639  0.005268  ...  0.042235 -0.030677   \n",
              "1.0   -2.04085 -7.040342  3.194879 -3.137542  ...  0.374793  0.797237   \n",
              "\n",
              "            V22       V23       V24       V25       V26       V27       V28  \\\n",
              "Class                                                                         \n",
              "0.0   -0.105246 -0.038271  0.007363  0.134344  0.025494  0.000766  0.002836   \n",
              "1.0   -0.171993 -0.229811 -0.084322  0.242355  0.097236  0.586565  0.050794   \n",
              "\n",
              "          Amount  \n",
              "Class             \n",
              "0.0    97.625867  \n",
              "1.0    94.292500  \n",
              "\n",
              "[2 rows x 30 columns]"
            ],
            "text/html": [
              "\n",
              "  <div id=\"df-82372782-698e-4936-baca-a2b1c812a4a5\">\n",
              "    <div class=\"colab-df-container\">\n",
              "      <div>\n",
              "<style scoped>\n",
              "    .dataframe tbody tr th:only-of-type {\n",
              "        vertical-align: middle;\n",
              "    }\n",
              "\n",
              "    .dataframe tbody tr th {\n",
              "        vertical-align: top;\n",
              "    }\n",
              "\n",
              "    .dataframe thead th {\n",
              "        text-align: right;\n",
              "    }\n",
              "</style>\n",
              "<table border=\"1\" class=\"dataframe\">\n",
              "  <thead>\n",
              "    <tr style=\"text-align: right;\">\n",
              "      <th></th>\n",
              "      <th>Time</th>\n",
              "      <th>V1</th>\n",
              "      <th>V2</th>\n",
              "      <th>V3</th>\n",
              "      <th>V4</th>\n",
              "      <th>V5</th>\n",
              "      <th>V6</th>\n",
              "      <th>V7</th>\n",
              "      <th>V8</th>\n",
              "      <th>V9</th>\n",
              "      <th>...</th>\n",
              "      <th>V20</th>\n",
              "      <th>V21</th>\n",
              "      <th>V22</th>\n",
              "      <th>V23</th>\n",
              "      <th>V24</th>\n",
              "      <th>V25</th>\n",
              "      <th>V26</th>\n",
              "      <th>V27</th>\n",
              "      <th>V28</th>\n",
              "      <th>Amount</th>\n",
              "    </tr>\n",
              "    <tr>\n",
              "      <th>Class</th>\n",
              "      <th></th>\n",
              "      <th></th>\n",
              "      <th></th>\n",
              "      <th></th>\n",
              "      <th></th>\n",
              "      <th></th>\n",
              "      <th></th>\n",
              "      <th></th>\n",
              "      <th></th>\n",
              "      <th></th>\n",
              "      <th></th>\n",
              "      <th></th>\n",
              "      <th></th>\n",
              "      <th></th>\n",
              "      <th></th>\n",
              "      <th></th>\n",
              "      <th></th>\n",
              "      <th></th>\n",
              "      <th></th>\n",
              "      <th></th>\n",
              "      <th></th>\n",
              "    </tr>\n",
              "  </thead>\n",
              "  <tbody>\n",
              "    <tr>\n",
              "      <th>0.0</th>\n",
              "      <td>36643.938353</td>\n",
              "      <td>-0.239252</td>\n",
              "      <td>-0.043518</td>\n",
              "      <td>0.701351</td>\n",
              "      <td>0.152168</td>\n",
              "      <td>-0.264608</td>\n",
              "      <td>0.10159</td>\n",
              "      <td>-0.097359</td>\n",
              "      <td>0.046639</td>\n",
              "      <td>0.005268</td>\n",
              "      <td>...</td>\n",
              "      <td>0.042235</td>\n",
              "      <td>-0.030677</td>\n",
              "      <td>-0.105246</td>\n",
              "      <td>-0.038271</td>\n",
              "      <td>0.007363</td>\n",
              "      <td>0.134344</td>\n",
              "      <td>0.025494</td>\n",
              "      <td>0.000766</td>\n",
              "      <td>0.002836</td>\n",
              "      <td>97.625867</td>\n",
              "    </tr>\n",
              "    <tr>\n",
              "      <th>1.0</th>\n",
              "      <td>32055.739362</td>\n",
              "      <td>-6.692335</td>\n",
              "      <td>4.711159</td>\n",
              "      <td>-8.903156</td>\n",
              "      <td>5.250821</td>\n",
              "      <td>-4.905270</td>\n",
              "      <td>-2.04085</td>\n",
              "      <td>-7.040342</td>\n",
              "      <td>3.194879</td>\n",
              "      <td>-3.137542</td>\n",
              "      <td>...</td>\n",
              "      <td>0.374793</td>\n",
              "      <td>0.797237</td>\n",
              "      <td>-0.171993</td>\n",
              "      <td>-0.229811</td>\n",
              "      <td>-0.084322</td>\n",
              "      <td>0.242355</td>\n",
              "      <td>0.097236</td>\n",
              "      <td>0.586565</td>\n",
              "      <td>0.050794</td>\n",
              "      <td>94.292500</td>\n",
              "    </tr>\n",
              "  </tbody>\n",
              "</table>\n",
              "<p>2 rows × 30 columns</p>\n",
              "</div>\n",
              "      <button class=\"colab-df-convert\" onclick=\"convertToInteractive('df-82372782-698e-4936-baca-a2b1c812a4a5')\"\n",
              "              title=\"Convert this dataframe to an interactive table.\"\n",
              "              style=\"display:none;\">\n",
              "        \n",
              "  <svg xmlns=\"http://www.w3.org/2000/svg\" height=\"24px\"viewBox=\"0 0 24 24\"\n",
              "       width=\"24px\">\n",
              "    <path d=\"M0 0h24v24H0V0z\" fill=\"none\"/>\n",
              "    <path d=\"M18.56 5.44l.94 2.06.94-2.06 2.06-.94-2.06-.94-.94-2.06-.94 2.06-2.06.94zm-11 1L8.5 8.5l.94-2.06 2.06-.94-2.06-.94L8.5 2.5l-.94 2.06-2.06.94zm10 10l.94 2.06.94-2.06 2.06-.94-2.06-.94-.94-2.06-.94 2.06-2.06.94z\"/><path d=\"M17.41 7.96l-1.37-1.37c-.4-.4-.92-.59-1.43-.59-.52 0-1.04.2-1.43.59L10.3 9.45l-7.72 7.72c-.78.78-.78 2.05 0 2.83L4 21.41c.39.39.9.59 1.41.59.51 0 1.02-.2 1.41-.59l7.78-7.78 2.81-2.81c.8-.78.8-2.07 0-2.86zM5.41 20L4 18.59l7.72-7.72 1.47 1.35L5.41 20z\"/>\n",
              "  </svg>\n",
              "      </button>\n",
              "      \n",
              "  <style>\n",
              "    .colab-df-container {\n",
              "      display:flex;\n",
              "      flex-wrap:wrap;\n",
              "      gap: 12px;\n",
              "    }\n",
              "\n",
              "    .colab-df-convert {\n",
              "      background-color: #E8F0FE;\n",
              "      border: none;\n",
              "      border-radius: 50%;\n",
              "      cursor: pointer;\n",
              "      display: none;\n",
              "      fill: #1967D2;\n",
              "      height: 32px;\n",
              "      padding: 0 0 0 0;\n",
              "      width: 32px;\n",
              "    }\n",
              "\n",
              "    .colab-df-convert:hover {\n",
              "      background-color: #E2EBFA;\n",
              "      box-shadow: 0px 1px 2px rgba(60, 64, 67, 0.3), 0px 1px 3px 1px rgba(60, 64, 67, 0.15);\n",
              "      fill: #174EA6;\n",
              "    }\n",
              "\n",
              "    [theme=dark] .colab-df-convert {\n",
              "      background-color: #3B4455;\n",
              "      fill: #D2E3FC;\n",
              "    }\n",
              "\n",
              "    [theme=dark] .colab-df-convert:hover {\n",
              "      background-color: #434B5C;\n",
              "      box-shadow: 0px 1px 3px 1px rgba(0, 0, 0, 0.15);\n",
              "      filter: drop-shadow(0px 1px 2px rgba(0, 0, 0, 0.3));\n",
              "      fill: #FFFFFF;\n",
              "    }\n",
              "  </style>\n",
              "\n",
              "      <script>\n",
              "        const buttonEl =\n",
              "          document.querySelector('#df-82372782-698e-4936-baca-a2b1c812a4a5 button.colab-df-convert');\n",
              "        buttonEl.style.display =\n",
              "          google.colab.kernel.accessAllowed ? 'block' : 'none';\n",
              "\n",
              "        async function convertToInteractive(key) {\n",
              "          const element = document.querySelector('#df-82372782-698e-4936-baca-a2b1c812a4a5');\n",
              "          const dataTable =\n",
              "            await google.colab.kernel.invokeFunction('convertToInteractive',\n",
              "                                                     [key], {});\n",
              "          if (!dataTable) return;\n",
              "\n",
              "          const docLinkHtml = 'Like what you see? Visit the ' +\n",
              "            '<a target=\"_blank\" href=https://colab.research.google.com/notebooks/data_table.ipynb>data table notebook</a>'\n",
              "            + ' to learn more about interactive tables.';\n",
              "          element.innerHTML = '';\n",
              "          dataTable['output_type'] = 'display_data';\n",
              "          await google.colab.output.renderOutput(dataTable, element);\n",
              "          const docLink = document.createElement('div');\n",
              "          docLink.innerHTML = docLinkHtml;\n",
              "          element.appendChild(docLink);\n",
              "        }\n",
              "      </script>\n",
              "    </div>\n",
              "  </div>\n",
              "  "
            ]
          },
          "metadata": {},
          "execution_count": 140
        }
      ]
    },
    {
      "cell_type": "markdown",
      "source": [
        "Under-Sampling "
      ],
      "metadata": {
        "id": "GtAe4exAfFXj"
      }
    },
    {
      "cell_type": "markdown",
      "source": [
        "Build a sample dataset contaning similer distributions for Normal Transactions and Fraud Distributions "
      ],
      "metadata": {
        "id": "G1Cth2f6fQ4p"
      }
    },
    {
      "cell_type": "markdown",
      "source": [
        "Number of Fradulant Transactions -- 103\n"
      ],
      "metadata": {
        "id": "LXquUnrAf5SE"
      }
    },
    {
      "cell_type": "code",
      "source": [
        "legit_sample = legit.sample(n=103)"
      ],
      "metadata": {
        "id": "_sqkl7ZDfxYM"
      },
      "execution_count": 141,
      "outputs": []
    },
    {
      "cell_type": "markdown",
      "source": [
        "Concatinating the 2 DataFrame "
      ],
      "metadata": {
        "id": "pAbc6vqZhvW6"
      }
    },
    {
      "cell_type": "code",
      "source": [
        "new_dataset = pd.concat([legit_sample,fraud],axis=0)"
      ],
      "metadata": {
        "id": "R1dSwFe7fxdN"
      },
      "execution_count": 142,
      "outputs": []
    },
    {
      "cell_type": "code",
      "source": [
        "# printing the first five rows of the new dataset\n",
        "new_dataset.head()"
      ],
      "metadata": {
        "colab": {
          "base_uri": "https://localhost:8080/",
          "height": 299
        },
        "id": "HwlVOZpkfxfa",
        "outputId": "95928e8f-9968-495f-ab2b-bf110cb2b5ea"
      },
      "execution_count": 143,
      "outputs": [
        {
          "output_type": "execute_result",
          "data": {
            "text/plain": [
              "        Time         V1        V2         V3        V4        V5        V6  \\\n",
              "57448  47915  -0.602299  0.331683   2.844918  0.366700  0.267533  1.869438   \n",
              "22048  32004  -1.433205 -1.453498   2.551375 -1.430088 -0.480554 -0.679729   \n",
              "47261  43153  -2.086016  2.203265   1.654339  2.941050 -1.683045  0.529728   \n",
              "61578  49898  -0.365647  0.999709   1.036394 -0.465575  0.683863  0.210721   \n",
              "22631  32349 -14.247180  8.229567 -13.981413  2.301040 -8.815038 -2.877142   \n",
              "\n",
              "             V7        V8        V9  ...       V21       V22       V23  \\\n",
              "57448  0.080737  0.239820  0.454700  ...  0.046125  0.794036 -0.086993   \n",
              "22048 -0.955851  0.334724 -0.985441  ...  0.113344  0.232566  0.291660   \n",
              "47261 -1.352162  1.793449 -0.723686  ...  0.216444  0.567241 -0.035345   \n",
              "61578  0.627803  0.128954 -0.661004  ... -0.255036 -0.676066 -0.200181   \n",
              "22631 -5.995690  9.418215  0.115467  ... -0.021301 -1.381229 -0.488268   \n",
              "\n",
              "            V24       V25       V26       V27       V28  Amount  Class  \n",
              "57448 -0.585689 -0.635345  0.434377 -0.264081 -0.348280   11.50    0.0  \n",
              "22048  0.334933 -0.359454  0.942480 -0.011942  0.129314  103.31    0.0  \n",
              "47261  0.370201  0.157378  0.440341  0.210230  0.090558    0.76    0.0  \n",
              "61578 -1.007333 -0.023478  0.134284  0.262889  0.098846    5.78    0.0  \n",
              "22631  0.097898  0.780247 -0.353358 -0.225190 -0.350797   89.99    0.0  \n",
              "\n",
              "[5 rows x 31 columns]"
            ],
            "text/html": [
              "\n",
              "  <div id=\"df-7adda436-5ff2-4c74-8d19-9f27108b620f\">\n",
              "    <div class=\"colab-df-container\">\n",
              "      <div>\n",
              "<style scoped>\n",
              "    .dataframe tbody tr th:only-of-type {\n",
              "        vertical-align: middle;\n",
              "    }\n",
              "\n",
              "    .dataframe tbody tr th {\n",
              "        vertical-align: top;\n",
              "    }\n",
              "\n",
              "    .dataframe thead th {\n",
              "        text-align: right;\n",
              "    }\n",
              "</style>\n",
              "<table border=\"1\" class=\"dataframe\">\n",
              "  <thead>\n",
              "    <tr style=\"text-align: right;\">\n",
              "      <th></th>\n",
              "      <th>Time</th>\n",
              "      <th>V1</th>\n",
              "      <th>V2</th>\n",
              "      <th>V3</th>\n",
              "      <th>V4</th>\n",
              "      <th>V5</th>\n",
              "      <th>V6</th>\n",
              "      <th>V7</th>\n",
              "      <th>V8</th>\n",
              "      <th>V9</th>\n",
              "      <th>...</th>\n",
              "      <th>V21</th>\n",
              "      <th>V22</th>\n",
              "      <th>V23</th>\n",
              "      <th>V24</th>\n",
              "      <th>V25</th>\n",
              "      <th>V26</th>\n",
              "      <th>V27</th>\n",
              "      <th>V28</th>\n",
              "      <th>Amount</th>\n",
              "      <th>Class</th>\n",
              "    </tr>\n",
              "  </thead>\n",
              "  <tbody>\n",
              "    <tr>\n",
              "      <th>57448</th>\n",
              "      <td>47915</td>\n",
              "      <td>-0.602299</td>\n",
              "      <td>0.331683</td>\n",
              "      <td>2.844918</td>\n",
              "      <td>0.366700</td>\n",
              "      <td>0.267533</td>\n",
              "      <td>1.869438</td>\n",
              "      <td>0.080737</td>\n",
              "      <td>0.239820</td>\n",
              "      <td>0.454700</td>\n",
              "      <td>...</td>\n",
              "      <td>0.046125</td>\n",
              "      <td>0.794036</td>\n",
              "      <td>-0.086993</td>\n",
              "      <td>-0.585689</td>\n",
              "      <td>-0.635345</td>\n",
              "      <td>0.434377</td>\n",
              "      <td>-0.264081</td>\n",
              "      <td>-0.348280</td>\n",
              "      <td>11.50</td>\n",
              "      <td>0.0</td>\n",
              "    </tr>\n",
              "    <tr>\n",
              "      <th>22048</th>\n",
              "      <td>32004</td>\n",
              "      <td>-1.433205</td>\n",
              "      <td>-1.453498</td>\n",
              "      <td>2.551375</td>\n",
              "      <td>-1.430088</td>\n",
              "      <td>-0.480554</td>\n",
              "      <td>-0.679729</td>\n",
              "      <td>-0.955851</td>\n",
              "      <td>0.334724</td>\n",
              "      <td>-0.985441</td>\n",
              "      <td>...</td>\n",
              "      <td>0.113344</td>\n",
              "      <td>0.232566</td>\n",
              "      <td>0.291660</td>\n",
              "      <td>0.334933</td>\n",
              "      <td>-0.359454</td>\n",
              "      <td>0.942480</td>\n",
              "      <td>-0.011942</td>\n",
              "      <td>0.129314</td>\n",
              "      <td>103.31</td>\n",
              "      <td>0.0</td>\n",
              "    </tr>\n",
              "    <tr>\n",
              "      <th>47261</th>\n",
              "      <td>43153</td>\n",
              "      <td>-2.086016</td>\n",
              "      <td>2.203265</td>\n",
              "      <td>1.654339</td>\n",
              "      <td>2.941050</td>\n",
              "      <td>-1.683045</td>\n",
              "      <td>0.529728</td>\n",
              "      <td>-1.352162</td>\n",
              "      <td>1.793449</td>\n",
              "      <td>-0.723686</td>\n",
              "      <td>...</td>\n",
              "      <td>0.216444</td>\n",
              "      <td>0.567241</td>\n",
              "      <td>-0.035345</td>\n",
              "      <td>0.370201</td>\n",
              "      <td>0.157378</td>\n",
              "      <td>0.440341</td>\n",
              "      <td>0.210230</td>\n",
              "      <td>0.090558</td>\n",
              "      <td>0.76</td>\n",
              "      <td>0.0</td>\n",
              "    </tr>\n",
              "    <tr>\n",
              "      <th>61578</th>\n",
              "      <td>49898</td>\n",
              "      <td>-0.365647</td>\n",
              "      <td>0.999709</td>\n",
              "      <td>1.036394</td>\n",
              "      <td>-0.465575</td>\n",
              "      <td>0.683863</td>\n",
              "      <td>0.210721</td>\n",
              "      <td>0.627803</td>\n",
              "      <td>0.128954</td>\n",
              "      <td>-0.661004</td>\n",
              "      <td>...</td>\n",
              "      <td>-0.255036</td>\n",
              "      <td>-0.676066</td>\n",
              "      <td>-0.200181</td>\n",
              "      <td>-1.007333</td>\n",
              "      <td>-0.023478</td>\n",
              "      <td>0.134284</td>\n",
              "      <td>0.262889</td>\n",
              "      <td>0.098846</td>\n",
              "      <td>5.78</td>\n",
              "      <td>0.0</td>\n",
              "    </tr>\n",
              "    <tr>\n",
              "      <th>22631</th>\n",
              "      <td>32349</td>\n",
              "      <td>-14.247180</td>\n",
              "      <td>8.229567</td>\n",
              "      <td>-13.981413</td>\n",
              "      <td>2.301040</td>\n",
              "      <td>-8.815038</td>\n",
              "      <td>-2.877142</td>\n",
              "      <td>-5.995690</td>\n",
              "      <td>9.418215</td>\n",
              "      <td>0.115467</td>\n",
              "      <td>...</td>\n",
              "      <td>-0.021301</td>\n",
              "      <td>-1.381229</td>\n",
              "      <td>-0.488268</td>\n",
              "      <td>0.097898</td>\n",
              "      <td>0.780247</td>\n",
              "      <td>-0.353358</td>\n",
              "      <td>-0.225190</td>\n",
              "      <td>-0.350797</td>\n",
              "      <td>89.99</td>\n",
              "      <td>0.0</td>\n",
              "    </tr>\n",
              "  </tbody>\n",
              "</table>\n",
              "<p>5 rows × 31 columns</p>\n",
              "</div>\n",
              "      <button class=\"colab-df-convert\" onclick=\"convertToInteractive('df-7adda436-5ff2-4c74-8d19-9f27108b620f')\"\n",
              "              title=\"Convert this dataframe to an interactive table.\"\n",
              "              style=\"display:none;\">\n",
              "        \n",
              "  <svg xmlns=\"http://www.w3.org/2000/svg\" height=\"24px\"viewBox=\"0 0 24 24\"\n",
              "       width=\"24px\">\n",
              "    <path d=\"M0 0h24v24H0V0z\" fill=\"none\"/>\n",
              "    <path d=\"M18.56 5.44l.94 2.06.94-2.06 2.06-.94-2.06-.94-.94-2.06-.94 2.06-2.06.94zm-11 1L8.5 8.5l.94-2.06 2.06-.94-2.06-.94L8.5 2.5l-.94 2.06-2.06.94zm10 10l.94 2.06.94-2.06 2.06-.94-2.06-.94-.94-2.06-.94 2.06-2.06.94z\"/><path d=\"M17.41 7.96l-1.37-1.37c-.4-.4-.92-.59-1.43-.59-.52 0-1.04.2-1.43.59L10.3 9.45l-7.72 7.72c-.78.78-.78 2.05 0 2.83L4 21.41c.39.39.9.59 1.41.59.51 0 1.02-.2 1.41-.59l7.78-7.78 2.81-2.81c.8-.78.8-2.07 0-2.86zM5.41 20L4 18.59l7.72-7.72 1.47 1.35L5.41 20z\"/>\n",
              "  </svg>\n",
              "      </button>\n",
              "      \n",
              "  <style>\n",
              "    .colab-df-container {\n",
              "      display:flex;\n",
              "      flex-wrap:wrap;\n",
              "      gap: 12px;\n",
              "    }\n",
              "\n",
              "    .colab-df-convert {\n",
              "      background-color: #E8F0FE;\n",
              "      border: none;\n",
              "      border-radius: 50%;\n",
              "      cursor: pointer;\n",
              "      display: none;\n",
              "      fill: #1967D2;\n",
              "      height: 32px;\n",
              "      padding: 0 0 0 0;\n",
              "      width: 32px;\n",
              "    }\n",
              "\n",
              "    .colab-df-convert:hover {\n",
              "      background-color: #E2EBFA;\n",
              "      box-shadow: 0px 1px 2px rgba(60, 64, 67, 0.3), 0px 1px 3px 1px rgba(60, 64, 67, 0.15);\n",
              "      fill: #174EA6;\n",
              "    }\n",
              "\n",
              "    [theme=dark] .colab-df-convert {\n",
              "      background-color: #3B4455;\n",
              "      fill: #D2E3FC;\n",
              "    }\n",
              "\n",
              "    [theme=dark] .colab-df-convert:hover {\n",
              "      background-color: #434B5C;\n",
              "      box-shadow: 0px 1px 3px 1px rgba(0, 0, 0, 0.15);\n",
              "      filter: drop-shadow(0px 1px 2px rgba(0, 0, 0, 0.3));\n",
              "      fill: #FFFFFF;\n",
              "    }\n",
              "  </style>\n",
              "\n",
              "      <script>\n",
              "        const buttonEl =\n",
              "          document.querySelector('#df-7adda436-5ff2-4c74-8d19-9f27108b620f button.colab-df-convert');\n",
              "        buttonEl.style.display =\n",
              "          google.colab.kernel.accessAllowed ? 'block' : 'none';\n",
              "\n",
              "        async function convertToInteractive(key) {\n",
              "          const element = document.querySelector('#df-7adda436-5ff2-4c74-8d19-9f27108b620f');\n",
              "          const dataTable =\n",
              "            await google.colab.kernel.invokeFunction('convertToInteractive',\n",
              "                                                     [key], {});\n",
              "          if (!dataTable) return;\n",
              "\n",
              "          const docLinkHtml = 'Like what you see? Visit the ' +\n",
              "            '<a target=\"_blank\" href=https://colab.research.google.com/notebooks/data_table.ipynb>data table notebook</a>'\n",
              "            + ' to learn more about interactive tables.';\n",
              "          element.innerHTML = '';\n",
              "          dataTable['output_type'] = 'display_data';\n",
              "          await google.colab.output.renderOutput(dataTable, element);\n",
              "          const docLink = document.createElement('div');\n",
              "          docLink.innerHTML = docLinkHtml;\n",
              "          element.appendChild(docLink);\n",
              "        }\n",
              "      </script>\n",
              "    </div>\n",
              "  </div>\n",
              "  "
            ]
          },
          "metadata": {},
          "execution_count": 143
        }
      ]
    },
    {
      "cell_type": "code",
      "source": [
        "# checking the distributions in the new data\n",
        "new_dataset['Class'].value_counts()"
      ],
      "metadata": {
        "colab": {
          "base_uri": "https://localhost:8080/"
        },
        "id": "M4VJlxjyfxh3",
        "outputId": "e5baf58d-db4c-4185-c9ef-4dcea5de92af"
      },
      "execution_count": 144,
      "outputs": [
        {
          "output_type": "execute_result",
          "data": {
            "text/plain": [
              "1.0    188\n",
              "0.0    103\n",
              "Name: Class, dtype: int64"
            ]
          },
          "metadata": {},
          "execution_count": 144
        }
      ]
    },
    {
      "cell_type": "code",
      "source": [
        "new_dataset.groupby('Class').mean()"
      ],
      "metadata": {
        "colab": {
          "base_uri": "https://localhost:8080/",
          "height": 237
        },
        "id": "xo98f8cpceyL",
        "outputId": "34822d1a-1a7e-4b7d-d09c-b4548c2df170"
      },
      "execution_count": 145,
      "outputs": [
        {
          "output_type": "execute_result",
          "data": {
            "text/plain": [
              "               Time        V1        V2        V3        V4       V5  \\\n",
              "Class                                                                  \n",
              "0.0    34858.873786 -0.745757  0.051361  0.760636  0.167246 -0.08431   \n",
              "1.0    32055.739362 -6.692335  4.711159 -8.903156  5.250821 -4.90527   \n",
              "\n",
              "             V6        V7        V8        V9  ...       V20       V21  \\\n",
              "Class                                          ...                       \n",
              "0.0    0.197919 -0.353357  0.162471  0.128220  ...  0.131645  0.084192   \n",
              "1.0   -2.040850 -7.040342  3.194879 -3.137542  ...  0.374793  0.797237   \n",
              "\n",
              "            V22       V23       V24       V25       V26       V27       V28  \\\n",
              "Class                                                                         \n",
              "0.0   -0.090930 -0.011688 -0.048053  0.154159  0.061521 -0.023845  0.005546   \n",
              "1.0   -0.171993 -0.229811 -0.084322  0.242355  0.097236  0.586565  0.050794   \n",
              "\n",
              "          Amount  \n",
              "Class             \n",
              "0.0    79.651359  \n",
              "1.0    94.292500  \n",
              "\n",
              "[2 rows x 30 columns]"
            ],
            "text/html": [
              "\n",
              "  <div id=\"df-f52a5862-c1f8-49b3-b4af-9efee4e8a369\">\n",
              "    <div class=\"colab-df-container\">\n",
              "      <div>\n",
              "<style scoped>\n",
              "    .dataframe tbody tr th:only-of-type {\n",
              "        vertical-align: middle;\n",
              "    }\n",
              "\n",
              "    .dataframe tbody tr th {\n",
              "        vertical-align: top;\n",
              "    }\n",
              "\n",
              "    .dataframe thead th {\n",
              "        text-align: right;\n",
              "    }\n",
              "</style>\n",
              "<table border=\"1\" class=\"dataframe\">\n",
              "  <thead>\n",
              "    <tr style=\"text-align: right;\">\n",
              "      <th></th>\n",
              "      <th>Time</th>\n",
              "      <th>V1</th>\n",
              "      <th>V2</th>\n",
              "      <th>V3</th>\n",
              "      <th>V4</th>\n",
              "      <th>V5</th>\n",
              "      <th>V6</th>\n",
              "      <th>V7</th>\n",
              "      <th>V8</th>\n",
              "      <th>V9</th>\n",
              "      <th>...</th>\n",
              "      <th>V20</th>\n",
              "      <th>V21</th>\n",
              "      <th>V22</th>\n",
              "      <th>V23</th>\n",
              "      <th>V24</th>\n",
              "      <th>V25</th>\n",
              "      <th>V26</th>\n",
              "      <th>V27</th>\n",
              "      <th>V28</th>\n",
              "      <th>Amount</th>\n",
              "    </tr>\n",
              "    <tr>\n",
              "      <th>Class</th>\n",
              "      <th></th>\n",
              "      <th></th>\n",
              "      <th></th>\n",
              "      <th></th>\n",
              "      <th></th>\n",
              "      <th></th>\n",
              "      <th></th>\n",
              "      <th></th>\n",
              "      <th></th>\n",
              "      <th></th>\n",
              "      <th></th>\n",
              "      <th></th>\n",
              "      <th></th>\n",
              "      <th></th>\n",
              "      <th></th>\n",
              "      <th></th>\n",
              "      <th></th>\n",
              "      <th></th>\n",
              "      <th></th>\n",
              "      <th></th>\n",
              "      <th></th>\n",
              "    </tr>\n",
              "  </thead>\n",
              "  <tbody>\n",
              "    <tr>\n",
              "      <th>0.0</th>\n",
              "      <td>34858.873786</td>\n",
              "      <td>-0.745757</td>\n",
              "      <td>0.051361</td>\n",
              "      <td>0.760636</td>\n",
              "      <td>0.167246</td>\n",
              "      <td>-0.08431</td>\n",
              "      <td>0.197919</td>\n",
              "      <td>-0.353357</td>\n",
              "      <td>0.162471</td>\n",
              "      <td>0.128220</td>\n",
              "      <td>...</td>\n",
              "      <td>0.131645</td>\n",
              "      <td>0.084192</td>\n",
              "      <td>-0.090930</td>\n",
              "      <td>-0.011688</td>\n",
              "      <td>-0.048053</td>\n",
              "      <td>0.154159</td>\n",
              "      <td>0.061521</td>\n",
              "      <td>-0.023845</td>\n",
              "      <td>0.005546</td>\n",
              "      <td>79.651359</td>\n",
              "    </tr>\n",
              "    <tr>\n",
              "      <th>1.0</th>\n",
              "      <td>32055.739362</td>\n",
              "      <td>-6.692335</td>\n",
              "      <td>4.711159</td>\n",
              "      <td>-8.903156</td>\n",
              "      <td>5.250821</td>\n",
              "      <td>-4.90527</td>\n",
              "      <td>-2.040850</td>\n",
              "      <td>-7.040342</td>\n",
              "      <td>3.194879</td>\n",
              "      <td>-3.137542</td>\n",
              "      <td>...</td>\n",
              "      <td>0.374793</td>\n",
              "      <td>0.797237</td>\n",
              "      <td>-0.171993</td>\n",
              "      <td>-0.229811</td>\n",
              "      <td>-0.084322</td>\n",
              "      <td>0.242355</td>\n",
              "      <td>0.097236</td>\n",
              "      <td>0.586565</td>\n",
              "      <td>0.050794</td>\n",
              "      <td>94.292500</td>\n",
              "    </tr>\n",
              "  </tbody>\n",
              "</table>\n",
              "<p>2 rows × 30 columns</p>\n",
              "</div>\n",
              "      <button class=\"colab-df-convert\" onclick=\"convertToInteractive('df-f52a5862-c1f8-49b3-b4af-9efee4e8a369')\"\n",
              "              title=\"Convert this dataframe to an interactive table.\"\n",
              "              style=\"display:none;\">\n",
              "        \n",
              "  <svg xmlns=\"http://www.w3.org/2000/svg\" height=\"24px\"viewBox=\"0 0 24 24\"\n",
              "       width=\"24px\">\n",
              "    <path d=\"M0 0h24v24H0V0z\" fill=\"none\"/>\n",
              "    <path d=\"M18.56 5.44l.94 2.06.94-2.06 2.06-.94-2.06-.94-.94-2.06-.94 2.06-2.06.94zm-11 1L8.5 8.5l.94-2.06 2.06-.94-2.06-.94L8.5 2.5l-.94 2.06-2.06.94zm10 10l.94 2.06.94-2.06 2.06-.94-2.06-.94-.94-2.06-.94 2.06-2.06.94z\"/><path d=\"M17.41 7.96l-1.37-1.37c-.4-.4-.92-.59-1.43-.59-.52 0-1.04.2-1.43.59L10.3 9.45l-7.72 7.72c-.78.78-.78 2.05 0 2.83L4 21.41c.39.39.9.59 1.41.59.51 0 1.02-.2 1.41-.59l7.78-7.78 2.81-2.81c.8-.78.8-2.07 0-2.86zM5.41 20L4 18.59l7.72-7.72 1.47 1.35L5.41 20z\"/>\n",
              "  </svg>\n",
              "      </button>\n",
              "      \n",
              "  <style>\n",
              "    .colab-df-container {\n",
              "      display:flex;\n",
              "      flex-wrap:wrap;\n",
              "      gap: 12px;\n",
              "    }\n",
              "\n",
              "    .colab-df-convert {\n",
              "      background-color: #E8F0FE;\n",
              "      border: none;\n",
              "      border-radius: 50%;\n",
              "      cursor: pointer;\n",
              "      display: none;\n",
              "      fill: #1967D2;\n",
              "      height: 32px;\n",
              "      padding: 0 0 0 0;\n",
              "      width: 32px;\n",
              "    }\n",
              "\n",
              "    .colab-df-convert:hover {\n",
              "      background-color: #E2EBFA;\n",
              "      box-shadow: 0px 1px 2px rgba(60, 64, 67, 0.3), 0px 1px 3px 1px rgba(60, 64, 67, 0.15);\n",
              "      fill: #174EA6;\n",
              "    }\n",
              "\n",
              "    [theme=dark] .colab-df-convert {\n",
              "      background-color: #3B4455;\n",
              "      fill: #D2E3FC;\n",
              "    }\n",
              "\n",
              "    [theme=dark] .colab-df-convert:hover {\n",
              "      background-color: #434B5C;\n",
              "      box-shadow: 0px 1px 3px 1px rgba(0, 0, 0, 0.15);\n",
              "      filter: drop-shadow(0px 1px 2px rgba(0, 0, 0, 0.3));\n",
              "      fill: #FFFFFF;\n",
              "    }\n",
              "  </style>\n",
              "\n",
              "      <script>\n",
              "        const buttonEl =\n",
              "          document.querySelector('#df-f52a5862-c1f8-49b3-b4af-9efee4e8a369 button.colab-df-convert');\n",
              "        buttonEl.style.display =\n",
              "          google.colab.kernel.accessAllowed ? 'block' : 'none';\n",
              "\n",
              "        async function convertToInteractive(key) {\n",
              "          const element = document.querySelector('#df-f52a5862-c1f8-49b3-b4af-9efee4e8a369');\n",
              "          const dataTable =\n",
              "            await google.colab.kernel.invokeFunction('convertToInteractive',\n",
              "                                                     [key], {});\n",
              "          if (!dataTable) return;\n",
              "\n",
              "          const docLinkHtml = 'Like what you see? Visit the ' +\n",
              "            '<a target=\"_blank\" href=https://colab.research.google.com/notebooks/data_table.ipynb>data table notebook</a>'\n",
              "            + ' to learn more about interactive tables.';\n",
              "          element.innerHTML = '';\n",
              "          dataTable['output_type'] = 'display_data';\n",
              "          await google.colab.output.renderOutput(dataTable, element);\n",
              "          const docLink = document.createElement('div');\n",
              "          docLink.innerHTML = docLinkHtml;\n",
              "          element.appendChild(docLink);\n",
              "        }\n",
              "      </script>\n",
              "    </div>\n",
              "  </div>\n",
              "  "
            ]
          },
          "metadata": {},
          "execution_count": 145
        }
      ]
    },
    {
      "cell_type": "markdown",
      "source": [
        "Splitting the data into Features and Target"
      ],
      "metadata": {
        "id": "KvxEjgUoj9VQ"
      }
    },
    {
      "cell_type": "code",
      "source": [
        "x = new_dataset.drop('Class',axis=1)\n",
        "y = new_dataset.Class"
      ],
      "metadata": {
        "id": "Sv6r1ALwjPQ1"
      },
      "execution_count": 146,
      "outputs": []
    },
    {
      "cell_type": "code",
      "source": [
        "print(x)"
      ],
      "metadata": {
        "colab": {
          "base_uri": "https://localhost:8080/"
        },
        "id": "GN3pc-83jPTG",
        "outputId": "80fc921f-cb32-498d-b582-6bfef5ddd33a"
      },
      "execution_count": 147,
      "outputs": [
        {
          "output_type": "stream",
          "name": "stdout",
          "text": [
            "        Time         V1        V2         V3        V4        V5        V6  \\\n",
            "57448  47915  -0.602299  0.331683   2.844918  0.366700  0.267533  1.869438   \n",
            "22048  32004  -1.433205 -1.453498   2.551375 -1.430088 -0.480554 -0.679729   \n",
            "47261  43153  -2.086016  2.203265   1.654339  2.941050 -1.683045  0.529728   \n",
            "61578  49898  -0.365647  0.999709   1.036394 -0.465575  0.683863  0.210721   \n",
            "22631  32349 -14.247180  8.229567 -13.981413  2.301040 -8.815038 -2.877142   \n",
            "...      ...        ...       ...        ...       ...       ...       ...   \n",
            "75511  56098  -1.229669  1.956099  -0.851198  2.796987 -1.913977 -0.044934   \n",
            "76555  56624  -7.901421  2.720472  -7.885936  6.348334 -5.480119 -0.333059   \n",
            "76609  56650  -8.762083  2.791030  -7.682767  6.991214 -5.230695 -0.357388   \n",
            "76929  56806   0.016828  2.400826  -4.220360  3.462217 -0.624142 -1.294303   \n",
            "77099  56887  -0.075483  1.812355  -2.566981  4.127549 -1.628532 -0.805895   \n",
            "\n",
            "             V7        V8        V9  ...       V20       V21       V22  \\\n",
            "57448  0.080737  0.239820  0.454700  ...  0.043255  0.046125  0.794036   \n",
            "22048 -0.955851  0.334724 -0.985441  ...  0.023122  0.113344  0.232566   \n",
            "47261 -1.352162  1.793449 -0.723686  ...  0.079002  0.216444  0.567241   \n",
            "61578  0.627803  0.128954 -0.661004  ...  0.198124 -0.255036 -0.676066   \n",
            "22631 -5.995690  9.418215  0.115467  ...  0.145723 -0.021301 -1.381229   \n",
            "...         ...       ...       ...  ...       ...       ...       ...   \n",
            "75511 -1.340739 -0.555548 -1.184468  ...  0.270459  1.208054  0.277612   \n",
            "76555 -8.682376  1.164431 -4.542447  ... -0.614719  0.077739  1.092437   \n",
            "76609 -9.685621  1.749335 -4.495679  ... -0.460390 -0.090527  0.348590   \n",
            "76929 -2.986028  0.751883 -1.606672  ...  0.590418  0.285832 -0.771508   \n",
            "77099 -3.390135  1.019353 -2.451251  ...  0.338598  0.794372  0.270471   \n",
            "\n",
            "            V23       V24       V25       V26       V27       V28  Amount  \n",
            "57448 -0.086993 -0.585689 -0.635345  0.434377 -0.264081 -0.348280   11.50  \n",
            "22048  0.291660  0.334933 -0.359454  0.942480 -0.011942  0.129314  103.31  \n",
            "47261 -0.035345  0.370201  0.157378  0.440341  0.210230  0.090558    0.76  \n",
            "61578 -0.200181 -1.007333 -0.023478  0.134284  0.262889  0.098846    5.78  \n",
            "22631 -0.488268  0.097898  0.780247 -0.353358 -0.225190 -0.350797   89.99  \n",
            "...         ...       ...       ...       ...       ...       ...     ...  \n",
            "75511  0.019266  0.508529 -0.201183 -0.249600  0.562239  0.075309  170.92  \n",
            "76555  0.320133 -0.434643 -0.380687  0.213630  0.423620 -0.105169  153.46  \n",
            "76609  0.051132 -0.415430  0.219665  0.330020 -0.028252 -0.156270    7.52  \n",
            "76929 -0.265200 -0.873077  0.939776 -0.219085  0.874494  0.470434    1.00  \n",
            "77099 -0.143624  0.013566  0.634203  0.213693  0.773625  0.387434    5.00  \n",
            "\n",
            "[291 rows x 30 columns]\n"
          ]
        }
      ]
    },
    {
      "cell_type": "code",
      "source": [
        "print(y)"
      ],
      "metadata": {
        "colab": {
          "base_uri": "https://localhost:8080/"
        },
        "id": "GuR691YOjPVc",
        "outputId": "987ec0c0-f404-40eb-cf7c-6574cf8f6a94"
      },
      "execution_count": 148,
      "outputs": [
        {
          "output_type": "stream",
          "name": "stdout",
          "text": [
            "57448    0.0\n",
            "22048    0.0\n",
            "47261    0.0\n",
            "61578    0.0\n",
            "22631    0.0\n",
            "        ... \n",
            "75511    1.0\n",
            "76555    1.0\n",
            "76609    1.0\n",
            "76929    1.0\n",
            "77099    1.0\n",
            "Name: Class, Length: 291, dtype: float64\n"
          ]
        }
      ]
    },
    {
      "cell_type": "markdown",
      "source": [
        "Splitting the data into Training and Testing Data"
      ],
      "metadata": {
        "id": "Hrum8zt1kfEx"
      }
    },
    {
      "cell_type": "code",
      "source": [
        "x_train,x_test,y_train,y_test = train_test_split(x,y,test_size=0.2,stratify = y,random_state =2)"
      ],
      "metadata": {
        "id": "hxer_6-IkcPZ"
      },
      "execution_count": 149,
      "outputs": []
    },
    {
      "cell_type": "code",
      "source": [
        "print(x.shape,x_train.shape,x_test.shape)"
      ],
      "metadata": {
        "colab": {
          "base_uri": "https://localhost:8080/"
        },
        "id": "ActYHsT0kcRl",
        "outputId": "19228175-4ad1-4593-a39b-276b7238f784"
      },
      "execution_count": 150,
      "outputs": [
        {
          "output_type": "stream",
          "name": "stdout",
          "text": [
            "(291, 30) (232, 30) (59, 30)\n"
          ]
        }
      ]
    },
    {
      "cell_type": "code",
      "source": [
        "print(y.shape, y_train.shape,y_test.shape)"
      ],
      "metadata": {
        "colab": {
          "base_uri": "https://localhost:8080/"
        },
        "id": "XrfzWhMpmsaZ",
        "outputId": "dd631b95-8847-44d1-8461-7f90658b2df8"
      },
      "execution_count": 151,
      "outputs": [
        {
          "output_type": "stream",
          "name": "stdout",
          "text": [
            "(291,) (232,) (59,)\n"
          ]
        }
      ]
    },
    {
      "cell_type": "markdown",
      "source": [
        "Model Training \n",
        "\n",
        "Logistic Regression"
      ],
      "metadata": {
        "id": "m1ved_YuluN_"
      }
    },
    {
      "cell_type": "code",
      "source": [
        "model = LogisticRegression()"
      ],
      "metadata": {
        "id": "o0EfBONykcUV"
      },
      "execution_count": 152,
      "outputs": []
    },
    {
      "cell_type": "code",
      "source": [
        "# training the Logistic Regression Model\n",
        "model.fit(x_train,y_train)"
      ],
      "metadata": {
        "colab": {
          "base_uri": "https://localhost:8080/",
          "height": 74
        },
        "id": "LsCEyZFCkcWK",
        "outputId": "df6d3701-accb-483c-cffa-507d6cb5e399"
      },
      "execution_count": 153,
      "outputs": [
        {
          "output_type": "execute_result",
          "data": {
            "text/plain": [
              "LogisticRegression()"
            ],
            "text/html": [
              "<style>#sk-container-id-5 {color: black;background-color: white;}#sk-container-id-5 pre{padding: 0;}#sk-container-id-5 div.sk-toggleable {background-color: white;}#sk-container-id-5 label.sk-toggleable__label {cursor: pointer;display: block;width: 100%;margin-bottom: 0;padding: 0.3em;box-sizing: border-box;text-align: center;}#sk-container-id-5 label.sk-toggleable__label-arrow:before {content: \"▸\";float: left;margin-right: 0.25em;color: #696969;}#sk-container-id-5 label.sk-toggleable__label-arrow:hover:before {color: black;}#sk-container-id-5 div.sk-estimator:hover label.sk-toggleable__label-arrow:before {color: black;}#sk-container-id-5 div.sk-toggleable__content {max-height: 0;max-width: 0;overflow: hidden;text-align: left;background-color: #f0f8ff;}#sk-container-id-5 div.sk-toggleable__content pre {margin: 0.2em;color: black;border-radius: 0.25em;background-color: #f0f8ff;}#sk-container-id-5 input.sk-toggleable__control:checked~div.sk-toggleable__content {max-height: 200px;max-width: 100%;overflow: auto;}#sk-container-id-5 input.sk-toggleable__control:checked~label.sk-toggleable__label-arrow:before {content: \"▾\";}#sk-container-id-5 div.sk-estimator input.sk-toggleable__control:checked~label.sk-toggleable__label {background-color: #d4ebff;}#sk-container-id-5 div.sk-label input.sk-toggleable__control:checked~label.sk-toggleable__label {background-color: #d4ebff;}#sk-container-id-5 input.sk-hidden--visually {border: 0;clip: rect(1px 1px 1px 1px);clip: rect(1px, 1px, 1px, 1px);height: 1px;margin: -1px;overflow: hidden;padding: 0;position: absolute;width: 1px;}#sk-container-id-5 div.sk-estimator {font-family: monospace;background-color: #f0f8ff;border: 1px dotted black;border-radius: 0.25em;box-sizing: border-box;margin-bottom: 0.5em;}#sk-container-id-5 div.sk-estimator:hover {background-color: #d4ebff;}#sk-container-id-5 div.sk-parallel-item::after {content: \"\";width: 100%;border-bottom: 1px solid gray;flex-grow: 1;}#sk-container-id-5 div.sk-label:hover label.sk-toggleable__label {background-color: #d4ebff;}#sk-container-id-5 div.sk-serial::before {content: \"\";position: absolute;border-left: 1px solid gray;box-sizing: border-box;top: 0;bottom: 0;left: 50%;z-index: 0;}#sk-container-id-5 div.sk-serial {display: flex;flex-direction: column;align-items: center;background-color: white;padding-right: 0.2em;padding-left: 0.2em;position: relative;}#sk-container-id-5 div.sk-item {position: relative;z-index: 1;}#sk-container-id-5 div.sk-parallel {display: flex;align-items: stretch;justify-content: center;background-color: white;position: relative;}#sk-container-id-5 div.sk-item::before, #sk-container-id-5 div.sk-parallel-item::before {content: \"\";position: absolute;border-left: 1px solid gray;box-sizing: border-box;top: 0;bottom: 0;left: 50%;z-index: -1;}#sk-container-id-5 div.sk-parallel-item {display: flex;flex-direction: column;z-index: 1;position: relative;background-color: white;}#sk-container-id-5 div.sk-parallel-item:first-child::after {align-self: flex-end;width: 50%;}#sk-container-id-5 div.sk-parallel-item:last-child::after {align-self: flex-start;width: 50%;}#sk-container-id-5 div.sk-parallel-item:only-child::after {width: 0;}#sk-container-id-5 div.sk-dashed-wrapped {border: 1px dashed gray;margin: 0 0.4em 0.5em 0.4em;box-sizing: border-box;padding-bottom: 0.4em;background-color: white;}#sk-container-id-5 div.sk-label label {font-family: monospace;font-weight: bold;display: inline-block;line-height: 1.2em;}#sk-container-id-5 div.sk-label-container {text-align: center;}#sk-container-id-5 div.sk-container {/* jupyter's `normalize.less` sets `[hidden] { display: none; }` but bootstrap.min.css set `[hidden] { display: none !important; }` so we also need the `!important` here to be able to override the default hidden behavior on the sphinx rendered scikit-learn.org. See: https://github.com/scikit-learn/scikit-learn/issues/21755 */display: inline-block !important;position: relative;}#sk-container-id-5 div.sk-text-repr-fallback {display: none;}</style><div id=\"sk-container-id-5\" class=\"sk-top-container\"><div class=\"sk-text-repr-fallback\"><pre>LogisticRegression()</pre><b>In a Jupyter environment, please rerun this cell to show the HTML representation or trust the notebook. <br />On GitHub, the HTML representation is unable to render, please try loading this page with nbviewer.org.</b></div><div class=\"sk-container\" hidden><div class=\"sk-item\"><div class=\"sk-estimator sk-toggleable\"><input class=\"sk-toggleable__control sk-hidden--visually\" id=\"sk-estimator-id-5\" type=\"checkbox\" checked><label for=\"sk-estimator-id-5\" class=\"sk-toggleable__label sk-toggleable__label-arrow\">LogisticRegression</label><div class=\"sk-toggleable__content\"><pre>LogisticRegression()</pre></div></div></div></div></div>"
            ]
          },
          "metadata": {},
          "execution_count": 153
        }
      ]
    },
    {
      "cell_type": "markdown",
      "source": [
        "Model Evaluation \n",
        "\n",
        "Accuracy Score\n"
      ],
      "metadata": {
        "id": "vnYBaDjLnY8W"
      }
    },
    {
      "cell_type": "code",
      "source": [
        "# accuracy score on the training data \n",
        "x_train_prediction = model.predict(x_train)"
      ],
      "metadata": {
        "id": "rmhck8bAkcZS"
      },
      "execution_count": 154,
      "outputs": []
    },
    {
      "cell_type": "code",
      "source": [
        "acc_train_data = accuracy_score(y_train,x_train_prediction)\n",
        "print(\"Accuracy score of training data:\",acc_train_data)"
      ],
      "metadata": {
        "colab": {
          "base_uri": "https://localhost:8080/"
        },
        "id": "u3UfcrRAkcan",
        "outputId": "6ea0a048-4379-4cf0-ab9c-4fe1bc94f71a"
      },
      "execution_count": 155,
      "outputs": [
        {
          "output_type": "stream",
          "name": "stdout",
          "text": [
            "Accuracy score of training data: 0.9655172413793104\n"
          ]
        }
      ]
    },
    {
      "cell_type": "code",
      "source": [
        "# accuracy score on the testing data \n",
        "x_test_prediction = model.predict(x_test)\n",
        "\n",
        "acc_test_data = accuracy_score(y_test,x_test_prediction)\n",
        "print(\"Accuracy Score of testing data:\",acc_test_data)"
      ],
      "metadata": {
        "colab": {
          "base_uri": "https://localhost:8080/"
        },
        "id": "9VcYu7WujPat",
        "outputId": "dd8eec85-8b5c-4b2a-fd4c-45d3b2e97f98"
      },
      "execution_count": 156,
      "outputs": [
        {
          "output_type": "stream",
          "name": "stdout",
          "text": [
            "Accuracy Score of testing data: 0.9491525423728814\n"
          ]
        }
      ]
    },
    {
      "cell_type": "markdown",
      "source": [
        "Building a Predictive System"
      ],
      "metadata": {
        "id": "A3IDhH_EsOQI"
      }
    },
    {
      "cell_type": "code",
      "source": [
        "input_data = (7519,1.23423504613468,3.0197404207034,-4.30459688479665,4.73279513041887,3.62420083055386,-1.35774566315358,1.71344498787235,-0.496358487073991,-1.28285782036322,-2.44746925511151,2.10134386504854,-4.6096283906446,1.46437762476188,-6.07933719308005,-0.339237372732577,2.58185095378146,6.73938438478335,3.04249317830411,-2.72185312222835,0.00906083639534526,-0.37906830709218,-0.704181032215427,-0.656804756348389,-1.63265295692929,1.48890144838237,0.566797273468934,-0.0100162234965625,0.146792734916988,1)\n",
        "\n",
        "# changing the input data into a numpy array\n",
        "input_data_as_array = np.asarray(input_data)\n",
        "\n",
        "# reshapig the input data\n",
        "reshaped_input_data = input_data_as_array.reshape(1,-1)\n",
        "\n",
        "# predicting the input data.\n",
        "prediction = model.predict(reshaped_input_data)\n",
        "print(prediction)\n",
        "\n",
        "if prediction[0]==0:\n",
        "  print(\"Ligit Transaction\")\n",
        "else:\n",
        "  print(\"Fraud Transaction\")"
      ],
      "metadata": {
        "colab": {
          "base_uri": "https://localhost:8080/"
        },
        "id": "B4PMkuSkqUs4",
        "outputId": "1ce1f964-5b4d-4d5f-e067-4d677ec7a7c5"
      },
      "execution_count": 157,
      "outputs": [
        {
          "output_type": "stream",
          "name": "stdout",
          "text": [
            "[1.]\n",
            "Fraud Transaction\n"
          ]
        }
      ]
    },
    {
      "cell_type": "code",
      "source": [],
      "metadata": {
        "id": "GvSj6TM9qUxn"
      },
      "execution_count": 157,
      "outputs": []
    },
    {
      "cell_type": "code",
      "source": [],
      "metadata": {
        "id": "oWSqTuHtqU0R"
      },
      "execution_count": 157,
      "outputs": []
    },
    {
      "cell_type": "code",
      "source": [],
      "metadata": {
        "id": "BIhUoOx2qU2Q"
      },
      "execution_count": 157,
      "outputs": []
    },
    {
      "cell_type": "code",
      "source": [],
      "metadata": {
        "id": "Q6m02kCoqU4L"
      },
      "execution_count": 157,
      "outputs": []
    },
    {
      "cell_type": "code",
      "source": [],
      "metadata": {
        "id": "_rRwK9TiqU6u"
      },
      "execution_count": 157,
      "outputs": []
    },
    {
      "cell_type": "code",
      "source": [],
      "metadata": {
        "id": "ddIhgEsOqU9J"
      },
      "execution_count": 157,
      "outputs": []
    },
    {
      "cell_type": "code",
      "source": [],
      "metadata": {
        "id": "3OeDtjYNqU_k"
      },
      "execution_count": 157,
      "outputs": []
    },
    {
      "cell_type": "code",
      "source": [],
      "metadata": {
        "id": "r9wQo5drqVBb"
      },
      "execution_count": 157,
      "outputs": []
    },
    {
      "cell_type": "code",
      "source": [],
      "metadata": {
        "id": "r6c2q522qVDu"
      },
      "execution_count": 157,
      "outputs": []
    }
  ]
}